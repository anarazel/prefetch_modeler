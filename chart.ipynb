{
 "cells": [
  {
   "cell_type": "code",
   "execution_count": null,
   "id": "e8597437",
   "metadata": {
    "scrolled": true
   },
   "outputs": [],
   "source": [
    "%load_ext autoreload\n",
    "%autoreload\n",
    "\n",
    "import matplotlib.pyplot as plt\n",
    "import pandas as pd\n",
    "from pipeline import *\n",
    "from model import *\n",
    "from bucket import *\n",
    "\n",
    "figure = plt.figure(figsize=(20,11))\n",
    "\n",
    "nblocks = 11\n",
    "nticks = 10\n",
    "\n",
    "pipeline = Pipeline(nblocks)\n",
    "pipeline.run(nticks, nblocks)\n",
    "to_plot = pipeline.measure(nticks)\n",
    "\n",
    "df = pd.DataFrame(to_plot)\n",
    "df.plot()"
   ]
  }
 ],
 "metadata": {
  "kernelspec": {
   "display_name": "Python 3 (ipykernel)",
   "language": "python",
   "name": "python3"
  },
  "language_info": {
   "codemirror_mode": {
    "name": "ipython",
    "version": 3
   },
   "file_extension": ".py",
   "mimetype": "text/x-python",
   "name": "python",
   "nbconvert_exporter": "python",
   "pygments_lexer": "ipython3",
   "version": "3.9.5"
  }
 },
 "nbformat": 4,
 "nbformat_minor": 5
}
